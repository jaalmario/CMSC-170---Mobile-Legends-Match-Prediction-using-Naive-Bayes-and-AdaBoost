{
 "cells": [
  {
   "cell_type": "markdown",
   "metadata": {},
   "source": [
    "## Tools and Imports"
   ]
  },
  {
   "cell_type": "code",
   "execution_count": 1,
   "metadata": {},
   "outputs": [],
   "source": [
    "import numpy as np\n",
    "import pandas as pd\n",
    "import matplotlib.pyplot as plt\n",
    "from math import floor\n",
    "import seaborn as sns\n",
    "\n",
    "def print_full(x):\n",
    "    pd.set_option('display.max_rows', len(x))\n",
    "    print(x)\n",
    "    pd.reset_option('display.max_rows')"
   ]
  },
  {
   "cell_type": "markdown",
   "metadata": {},
   "source": [
    "## Dataset"
   ]
  },
  {
   "cell_type": "code",
   "execution_count": 2,
   "metadata": {},
   "outputs": [
    {
     "data": {
      "text/html": [
       "<div>\n",
       "<style scoped>\n",
       "    .dataframe tbody tr th:only-of-type {\n",
       "        vertical-align: middle;\n",
       "    }\n",
       "\n",
       "    .dataframe tbody tr th {\n",
       "        vertical-align: top;\n",
       "    }\n",
       "\n",
       "    .dataframe thead th {\n",
       "        text-align: right;\n",
       "    }\n",
       "</style>\n",
       "<table border=\"1\" class=\"dataframe\">\n",
       "  <thead>\n",
       "    <tr style=\"text-align: right;\">\n",
       "      <th></th>\n",
       "      <th>Player</th>\n",
       "      <th>Team</th>\n",
       "      <th>Stat</th>\n",
       "      <th>Role</th>\n",
       "      <th>Best Attribute</th>\n",
       "      <th>Actual Result</th>\n",
       "    </tr>\n",
       "  </thead>\n",
       "  <tbody>\n",
       "    <tr>\n",
       "      <th>0</th>\n",
       "      <td>1</td>\n",
       "      <td>1</td>\n",
       "      <td>1</td>\n",
       "      <td>0</td>\n",
       "      <td>0</td>\n",
       "      <td>1</td>\n",
       "    </tr>\n",
       "    <tr>\n",
       "      <th>1</th>\n",
       "      <td>2</td>\n",
       "      <td>1</td>\n",
       "      <td>1</td>\n",
       "      <td>1</td>\n",
       "      <td>1</td>\n",
       "      <td>1</td>\n",
       "    </tr>\n",
       "    <tr>\n",
       "      <th>2</th>\n",
       "      <td>3</td>\n",
       "      <td>1</td>\n",
       "      <td>0</td>\n",
       "      <td>2</td>\n",
       "      <td>0</td>\n",
       "      <td>1</td>\n",
       "    </tr>\n",
       "    <tr>\n",
       "      <th>3</th>\n",
       "      <td>4</td>\n",
       "      <td>1</td>\n",
       "      <td>0</td>\n",
       "      <td>3</td>\n",
       "      <td>2</td>\n",
       "      <td>1</td>\n",
       "    </tr>\n",
       "    <tr>\n",
       "      <th>4</th>\n",
       "      <td>5</td>\n",
       "      <td>2</td>\n",
       "      <td>1</td>\n",
       "      <td>0</td>\n",
       "      <td>0</td>\n",
       "      <td>0</td>\n",
       "    </tr>\n",
       "    <tr>\n",
       "      <th>5</th>\n",
       "      <td>6</td>\n",
       "      <td>2</td>\n",
       "      <td>0</td>\n",
       "      <td>3</td>\n",
       "      <td>1</td>\n",
       "      <td>0</td>\n",
       "    </tr>\n",
       "    <tr>\n",
       "      <th>6</th>\n",
       "      <td>7</td>\n",
       "      <td>2</td>\n",
       "      <td>1</td>\n",
       "      <td>5</td>\n",
       "      <td>0</td>\n",
       "      <td>0</td>\n",
       "    </tr>\n",
       "    <tr>\n",
       "      <th>7</th>\n",
       "      <td>8</td>\n",
       "      <td>2</td>\n",
       "      <td>0</td>\n",
       "      <td>1</td>\n",
       "      <td>1</td>\n",
       "      <td>0</td>\n",
       "    </tr>\n",
       "  </tbody>\n",
       "</table>\n",
       "</div>"
      ],
      "text/plain": [
       "   Player  Team  Stat  Role  Best Attribute  Actual Result\n",
       "0       1     1     1     0               0              1\n",
       "1       2     1     1     1               1              1\n",
       "2       3     1     0     2               0              1\n",
       "3       4     1     0     3               2              1\n",
       "4       5     2     1     0               0              0\n",
       "5       6     2     0     3               1              0\n",
       "6       7     2     1     5               0              0\n",
       "7       8     2     0     1               1              0"
      ]
     },
     "execution_count": 2,
     "metadata": {},
     "output_type": "execute_result"
    }
   ],
   "source": [
    "stockData = pd.read_csv(\"ML_datasets.csv\")\n",
    "stockData.head(8)"
   ]
  },
  {
   "cell_type": "markdown",
   "metadata": {},
   "source": [
    "## Basic EDA\n",
    "\n",
    "before we can proceed to our Naive Bayes, we must confirm that the features we have are independent and are not correlated."
   ]
  },
  {
   "cell_type": "code",
   "execution_count": 3,
   "metadata": {},
   "outputs": [
    {
     "data": {
      "text/plain": [
       "<AxesSubplot:>"
      ]
     },
     "execution_count": 3,
     "metadata": {},
     "output_type": "execute_result"
    },
    {
     "data": {
      "image/png": "[encoded data removed]",
      "text/plain": [
       "<Figure size 432x288 with 2 Axes>"
      ]
     },
     "metadata": {
      "needs_background": "light"
     },
     "output_type": "display_data"
    }
   ],
   "source": [
    "corr = stockData.iloc[:,2:-1].corr(method=\"pearson\")\n",
    "cmap = sns.diverging_palette(250,354,80,60,center='dark',as_cmap=True)\n",
    "sns.heatmap(corr, vmax=1, vmin=-.5, cmap=cmap, square=True, linewidths=.2)"
   ]
  },
  {
   "cell_type": "markdown",
   "metadata": {},
   "source": [
    "## Calculate Prior P(Y)\n",
    "Logic for this would be P(Y) = totalY/totalN; Y = Win | Lose"
   ]
  },
  {
   "cell_type": "code",
   "execution_count": 5,
   "metadata": {},
   "outputs": [],
   "source": [
    "def calculate_prior(training_d,Y):\n",
    "    classes = sorted(list(training_d[Y].unique()))\n",
    "    prior = []\n",
    "    for i in classes:\n",
    "        prior.append(len(training_d[training_d[Y]==i])/len(training_d))\n",
    "    return prior"
   ]
  },
  {
   "cell_type": "markdown",
   "metadata": {},
   "source": [
    "## Calculate P(X|Y) \n",
    "logic here is P(X|Y) = totalX/totalN; X = x0 | x1 | x2 (columns)"
   ]
  },
  {
   "cell_type": "code",
   "execution_count": 6,
   "metadata": {},
   "outputs": [],
   "source": [
    "def calculate_likelihood(training_d, feat_name, feat_val, Y, label):\n",
    "    training_d = training_d[training_d[Y]==label]\n",
    "    p_x_given_y = len(training_d[training_d[feat_name]==feat_val]) / len(training_d)\n",
    "    return p_x_given_y"
   ]
  },
  {
   "cell_type": "markdown",
   "metadata": {},
   "source": [
    "## Calculate Probability P(X1|Y)P(X2|Y)P(X3|Y)...P(Xn|Y) * P(Y)"
   ]
  },
  {
   "cell_type": "code",
   "execution_count": 15,
   "metadata": {},
   "outputs": [],
   "source": [
    "def naive_bayes_categorical(training_data, X, Y):\n",
    "    #getting the feature names\n",
    "    features = list(training_data.columns)[2:-1]\n",
    "    \n",
    "    prior = calculate_prior(training_data, Y)\n",
    "    \n",
    "    probW = []\n",
    "    probL = []\n",
    "    Ypred = []\n",
    "    data = [[],[],[]]\n",
    "    accumulatedP = [],[]\n",
    "    for x in X:\n",
    "        \n",
    "        labels = sorted(list(training_data[Y].unique()))\n",
    "        likelihood = [1]*len(labels)\n",
    "        for j in range(len(labels)):\n",
    "            #calculate P(X1|Y)P(X2|Y)P(X3|Y)...P(Xn|Y)\n",
    "            for i in range(len(features)):\n",
    "                likelihood[j] *= calculate_likelihood(training_data, features[i], x[i], Y, labels[j])\n",
    "        post_prob = [1]*len(labels)\n",
    "        \n",
    "        for j in range(len(labels)):\n",
    "            post_prob[j] = likelihood[j] * prior[j]\n",
    "               \n",
    "    \n",
    "        Ypred.append(np.argmax(post_prob))\n",
    "        probW.append(post_prob[1])\n",
    "        probL.append(post_prob[0])\n",
    "    \n",
    "    #Since there are 4 heroes per team, their probability are all multiplied\n",
    "    for i in range(floor(len(X)/4)):\n",
    "           accumulatedP[1].append(probW[i*4]*probW[(i*4)+1]*probW[(i*4)+2]*probW[(i*4)+3]) \n",
    "           accumulatedP[0].append(probL[i*4]*probL[(i*4)+1]*probL[(i*4)+2]*probL[(i*4)+3])\n",
    "           # We predict win if their win prob is greater than their lose prob.\n",
    "           if(accumulatedP[1][i] >= accumulatedP[0][i]):\n",
    "               data[2].append(1)\n",
    "           else:\n",
    "               data[2].append(0)\n",
    "\n",
    "    data[0] = accumulatedP[0]\n",
    "    data[1] = accumulatedP[1]\n",
    "    \n",
    "    return data\n",
    "        "
   ]
  },
  {
   "cell_type": "markdown",
   "metadata": {},
   "source": [
    "## Testing For NB"
   ]
  },
  {
   "cell_type": "code",
   "execution_count": 16,
   "metadata": {},
   "outputs": [
    {
     "name": "stdout",
     "output_type": "stream",
     "text": [
      "    Prediction  Win Probability  Lose Probability  Actual Result\n",
      "0            1     1.708425e-07      1.041376e-07              1\n",
      "1            0     1.536965e-07      2.066637e-07              0\n",
      "2            1     2.543971e-07      1.581496e-07              1\n",
      "3            0     1.584789e-07      1.625990e-07              0\n",
      "4            1     3.580403e-08      3.006717e-08              1\n",
      "5            0     9.672544e-08      1.323456e-07              0\n",
      "6            0     7.036709e-08      7.118417e-08              0\n",
      "7            1     2.113052e-07      1.578860e-07              1\n",
      "8            0     8.703298e-08      1.079244e-07              0\n",
      "9            1     1.337028e-07      1.056690e-07              1\n",
      "10           0     9.672544e-08      1.323456e-07              0\n",
      "11           0     5.657526e-08      1.093290e-07              1\n",
      "12           1     7.255661e-08      5.600632e-08              1\n",
      "13           1     8.974107e-08      8.491281e-08              0\n",
      "14           1     1.144089e-07      9.741257e-08              1\n",
      "15           0     1.900983e-07      3.133289e-07              0\n",
      "16           1     1.337028e-07      1.056690e-07              1\n",
      "17           0     6.830436e-08      7.708885e-08              0\n",
      "18           0     1.235936e-07      1.304276e-07              1\n",
      "19           1     2.056828e-07      1.043114e-07              0\n",
      "20           1     7.255661e-08      5.600632e-08              1\n",
      "21           0     1.491911e-07      2.238063e-07              0\n",
      "22           0     4.383579e-08      7.318688e-08              1\n",
      "23           0     1.235936e-07      1.304276e-07              0\n",
      "24           0     1.276621e-07      2.063193e-07              1\n",
      "25           0     1.111896e-07      2.588369e-07              0\n",
      "26           0     2.590192e-08      3.765776e-08              1\n",
      "27           1     1.167784e-07      9.331808e-08              0\n",
      "28           1     1.337028e-07      1.056690e-07              1\n",
      "29           1     2.113052e-07      1.578860e-07              0\n",
      "30           1     2.113052e-07      1.578860e-07              0\n",
      "31           0     3.250068e-07      3.792928e-07              1\n",
      "32           0     7.820354e-08      8.729178e-08              1\n",
      "33           0     1.900983e-07      3.133289e-07              0\n",
      "34           1     6.379764e-07      3.659843e-07              0\n",
      "35           0     1.235936e-07      1.304276e-07              1\n",
      "36           1     2.113052e-07      1.578860e-07              1\n",
      "37           0     6.830436e-08      7.708885e-08              0\n",
      "38           0     1.536965e-07      2.066637e-07              0\n",
      "39           0     1.076461e-07      1.636273e-07              1\n",
      "40           1     9.992675e-08      8.602669e-08              1\n",
      "41           0     4.491769e-07      7.369864e-07              0\n",
      "42           0     7.820354e-08      8.729178e-08              1\n",
      "43           0     9.990949e-08      2.093534e-07              0\n",
      "44           1     2.113052e-07      1.578860e-07              0\n",
      "45           1     1.167784e-07      9.331808e-08              1\n",
      "46           1     5.866279e-08      3.694034e-08              1\n",
      "47           0     6.830436e-08      7.708885e-08              0\n",
      "48           0     2.882634e-08      4.655869e-08              0\n",
      "49           0     9.269521e-08      1.343209e-07              1\n",
      "50           0     7.494506e-08      8.859465e-08              1\n",
      "51           0     4.941383e-08      9.655027e-08              0\n",
      "52           1     2.113052e-07      1.578860e-07              1\n",
      "53           0     1.536965e-07      2.066637e-07              0\n",
      "54           1     9.992675e-08      8.602669e-08              1\n",
      "55           0     2.890243e-08      7.975892e-08              0\n",
      "56           0     8.726272e-08      1.848835e-07              1\n",
      "57           1     2.543971e-07      1.581496e-07              0\n",
      "58           1     4.360851e-07      3.279600e-07              1\n",
      "59           1     2.190642e-07      1.298243e-07              0\n",
      "60           0     1.584789e-07      1.625990e-07              0\n",
      "61           1     1.708425e-07      1.041376e-07              1\n",
      "62           0     1.076461e-07      1.636273e-07              1\n",
      "63           0     5.657526e-08      1.093290e-07              0\n",
      "64           1     9.992675e-08      8.602669e-08              0\n",
      "65           1     1.444365e-07      1.414823e-07              1\n",
      "66           1     1.708425e-07      1.041376e-07              0\n",
      "67           0     9.672544e-08      1.323456e-07              1\n",
      "68           0     2.798670e-07      3.113598e-07              1\n",
      "69           0     7.494506e-08      8.859465e-08              0\n",
      "70           0     5.844772e-08      7.106552e-08              0\n",
      "71           0     7.036709e-08      7.118417e-08              1\n",
      "Accuracy:  0.6111111111111112\n"
     ]
    }
   ],
   "source": [
    "\n",
    "from sklearn.model_selection import train_test_split\n",
    "train, test = train_test_split(stockData, test_size=.3, shuffle=False)\n",
    "X_test = test.iloc[:,2:-1].values\n",
    "Y_test = test.iloc[:,-1].values\n",
    "\n",
    "Ypred = naive_bayes_categorical(train, X=X_test, Y=\"Actual Result\")\n",
    "\n",
    "match_y =[]\n",
    "for i in range(floor(len(X_test)/4)):\n",
    "    match_y.append(Y_test[i*4])\n",
    "\n",
    "result = pd.DataFrame({\"Prediction\":Ypred[2],\"Win Probability\": Ypred[1], \"Lose Probability\": Ypred[0],\"Actual Result\":match_y})\n",
    "\n",
    "# Calculate Accuracy by the total correct predictions divided by the total Matches\n",
    "acc = np.sum(result[\"Prediction\"] == result[\"Actual Result\"]) / len(result[\"Actual Result\"])\n",
    "print_full(result)\n",
    "print(\"Accuracy: \", acc)\n",
    "\n"
   ]
  }
 ],
 "metadata": {
  "interpreter": {
   "hash": "405ef7d1e9e1734bac154fb68f09c8e6b1313a2ff423ae8052b2bdaf32a1ee30"
  },
  "kernelspec": {
   "display_name": "Python 3.8.10 64-bit (windows store)",
   "language": "python",
   "name": "python3"
  },
  "language_info": {
   "codemirror_mode": {
    "name": "ipython",
    "version": 3
   },
   "file_extension": ".py",
   "mimetype": "text/x-python",
   "name": "python",
   "nbconvert_exporter": "python",
   "pygments_lexer": "ipython3",
   "version": "3.8.10"
  },
  "orig_nbformat": 4
 },
 "nbformat": 4,
 "nbformat_minor": 2
}
