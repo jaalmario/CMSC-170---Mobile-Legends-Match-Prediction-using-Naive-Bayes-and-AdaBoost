{
 "cells": [
  {
   "cell_type": "markdown",
   "metadata": {},
   "source": [
    "## Tools and Imports"
   ]
  },
  {
   "cell_type": "code",
   "execution_count": 235,
   "metadata": {},
   "outputs": [],
   "source": [
    "import numpy as np\n",
    "import pandas as pd\n",
    "import matplotlib.pyplot as plt\n",
    "from math import floor\n",
    "import seaborn as sns\n",
    "sns.set_style(\"darkgrid\")"
   ]
  },
  {
   "cell_type": "markdown",
   "metadata": {},
   "source": [
    "## Dataset"
   ]
  },
  {
   "cell_type": "code",
   "execution_count": 336,
   "metadata": {},
   "outputs": [
    {
     "data": {
      "text/html": [
       "<div>\n",
       "<style scoped>\n",
       "    .dataframe tbody tr th:only-of-type {\n",
       "        vertical-align: middle;\n",
       "    }\n",
       "\n",
       "    .dataframe tbody tr th {\n",
       "        vertical-align: top;\n",
       "    }\n",
       "\n",
       "    .dataframe thead th {\n",
       "        text-align: right;\n",
       "    }\n",
       "</style>\n",
       "<table border=\"1\" class=\"dataframe\">\n",
       "  <thead>\n",
       "    <tr style=\"text-align: right;\">\n",
       "      <th></th>\n",
       "      <th>Player</th>\n",
       "      <th>Team</th>\n",
       "      <th>Stat</th>\n",
       "      <th>Role</th>\n",
       "      <th>Best Attribute</th>\n",
       "      <th>Actual Result</th>\n",
       "    </tr>\n",
       "  </thead>\n",
       "  <tbody>\n",
       "    <tr>\n",
       "      <th>0</th>\n",
       "      <td>1</td>\n",
       "      <td>1</td>\n",
       "      <td>1</td>\n",
       "      <td>0</td>\n",
       "      <td>0</td>\n",
       "      <td>1</td>\n",
       "    </tr>\n",
       "    <tr>\n",
       "      <th>1</th>\n",
       "      <td>2</td>\n",
       "      <td>1</td>\n",
       "      <td>1</td>\n",
       "      <td>1</td>\n",
       "      <td>1</td>\n",
       "      <td>1</td>\n",
       "    </tr>\n",
       "    <tr>\n",
       "      <th>2</th>\n",
       "      <td>3</td>\n",
       "      <td>1</td>\n",
       "      <td>0</td>\n",
       "      <td>2</td>\n",
       "      <td>0</td>\n",
       "      <td>1</td>\n",
       "    </tr>\n",
       "    <tr>\n",
       "      <th>3</th>\n",
       "      <td>4</td>\n",
       "      <td>1</td>\n",
       "      <td>0</td>\n",
       "      <td>3</td>\n",
       "      <td>2</td>\n",
       "      <td>1</td>\n",
       "    </tr>\n",
       "    <tr>\n",
       "      <th>4</th>\n",
       "      <td>5</td>\n",
       "      <td>2</td>\n",
       "      <td>1</td>\n",
       "      <td>0</td>\n",
       "      <td>0</td>\n",
       "      <td>0</td>\n",
       "    </tr>\n",
       "    <tr>\n",
       "      <th>5</th>\n",
       "      <td>6</td>\n",
       "      <td>2</td>\n",
       "      <td>0</td>\n",
       "      <td>3</td>\n",
       "      <td>1</td>\n",
       "      <td>0</td>\n",
       "    </tr>\n",
       "    <tr>\n",
       "      <th>6</th>\n",
       "      <td>7</td>\n",
       "      <td>2</td>\n",
       "      <td>1</td>\n",
       "      <td>5</td>\n",
       "      <td>0</td>\n",
       "      <td>0</td>\n",
       "    </tr>\n",
       "    <tr>\n",
       "      <th>7</th>\n",
       "      <td>8</td>\n",
       "      <td>2</td>\n",
       "      <td>0</td>\n",
       "      <td>1</td>\n",
       "      <td>1</td>\n",
       "      <td>0</td>\n",
       "    </tr>\n",
       "  </tbody>\n",
       "</table>\n",
       "</div>"
      ],
      "text/plain": [
       "   Player  Team  Stat  Role  Best Attribute  Actual Result\n",
       "0       1     1     1     0               0              1\n",
       "1       2     1     1     1               1              1\n",
       "2       3     1     0     2               0              1\n",
       "3       4     1     0     3               2              1\n",
       "4       5     2     1     0               0              0\n",
       "5       6     2     0     3               1              0\n",
       "6       7     2     1     5               0              0\n",
       "7       8     2     0     1               1              0"
      ]
     },
     "execution_count": 336,
     "metadata": {},
     "output_type": "execute_result"
    }
   ],
   "source": [
    "stockData = pd.read_csv(\"ML_datasets.csv\")\n",
    "stockData.head(8)"
   ]
  },
  {
   "cell_type": "markdown",
   "metadata": {},
   "source": [
    "## Basic EDA\n",
    "\n",
    "before we can proceed to our Naive Bayes, we must confirm that the features we have are independent and are not correlated."
   ]
  },
  {
   "cell_type": "code",
   "execution_count": 237,
   "metadata": {},
   "outputs": [
    {
     "data": {
      "text/plain": [
       "<AxesSubplot:>"
      ]
     },
     "execution_count": 237,
     "metadata": {},
     "output_type": "execute_result"
    },
    {
     "data": {
      "image/png": "[encoded data removed]",
      "text/plain": [
       "<Figure size 432x288 with 2 Axes>"
      ]
     },
     "metadata": {},
     "output_type": "display_data"
    }
   ],
   "source": [
    "corr = stockData.iloc[:,2:-1].corr(method=\"pearson\")\n",
    "cmap = sns.diverging_palette(250,354,80,60,center='dark',as_cmap=True)\n",
    "sns.heatmap(corr, vmax=1, vmin=-.5, cmap=cmap, square=True, linewidths=.2)"
   ]
  },
  {
   "cell_type": "markdown",
   "metadata": {},
   "source": [
    "## plotting of columns (ay lang ni apila)"
   ]
  },
  {
   "cell_type": "code",
   "execution_count": 238,
   "metadata": {},
   "outputs": [
    {
     "data": {
      "text/plain": [
       "<AxesSubplot:xlabel='Best Attribute', ylabel='Count'>"
      ]
     },
     "execution_count": 238,
     "metadata": {},
     "output_type": "execute_result"
    },
    {
     "data": {
      "image/png": "[encoded data removed]",
      "text/plain": [
       "<Figure size 1296x432 with 3 Axes>"
      ]
     },
     "metadata": {},
     "output_type": "display_data"
    }
   ],
   "source": [
    "fig, axes = plt.subplots(1,3, figsize=(18,6), sharey=True)\n",
    "sns.histplot(stockData, ax=axes[0], x=\"Stat\", kde=True, color='r')\n",
    "sns.histplot(stockData, ax=axes[1], x=\"Role\", kde=True, color='b')\n",
    "sns.histplot(stockData, ax=axes[2], x=\"Best Attribute\", kde=True)"
   ]
  },
  {
   "cell_type": "markdown",
   "metadata": {},
   "source": [
    "## Calculate Prior P(Y)\n",
    "Logic for this would be P(Y) = totalY/totalN; Y = Win | Lose"
   ]
  },
  {
   "cell_type": "code",
   "execution_count": 313,
   "metadata": {},
   "outputs": [],
   "source": [
    "def calculate_prior(training_d,Y):\n",
    "    classes = sorted(list(training_d[Y].unique()))\n",
    "    prior = []\n",
    "    for i in classes:\n",
    "        prior.append(len(training_d[training_d[Y]==i])/len(training_d))\n",
    "    return prior"
   ]
  },
  {
   "cell_type": "markdown",
   "metadata": {},
   "source": [
    "## Calculate P(X|Y) \n",
    "logic here is P(X|Y) = totalX/totalN; X = x0 | x1 | x2 (columns)"
   ]
  },
  {
   "cell_type": "code",
   "execution_count": 314,
   "metadata": {},
   "outputs": [],
   "source": [
    "def calculate_likelihood(training_d, feat_name, feat_val, Y, label):\n",
    "    training_d = training_d[training_d[Y]==label]\n",
    "    p_x_given_y = len(training_d[training_d[feat_name]==feat_val]) / len(training_d)\n",
    "    return p_x_given_y"
   ]
  },
  {
   "cell_type": "markdown",
   "metadata": {},
   "source": [
    "## Calculate Probability P(X1|Y)P(X2|Y)P(X3|Y)...P(Xn|Y) * P(Y)"
   ]
  },
  {
   "cell_type": "code",
   "execution_count": 315,
   "metadata": {},
   "outputs": [],
   "source": [
    "def naive_bayes_categorical(training_data, X, Y):\n",
    "    #getting the feature names\n",
    "    features = list(training_data.columns)[2:-1]\n",
    "    \n",
    "    prior = calculate_prior(training_data, Y)\n",
    "    \n",
    "    probW = []\n",
    "    probL = []\n",
    "    Ypred = []\n",
    "    data = [[],[],[]]\n",
    "    accumulatedP = [],[]\n",
    "    for x in X:\n",
    "        \n",
    "        labels = sorted(list(training_data[Y].unique()))\n",
    "        likelihood = [1]*len(labels)\n",
    "        for j in range(len(labels)):\n",
    "            #calculate P(X1|Y)P(X2|Y)P(X3|Y)...P(Xn|Y)\n",
    "            for i in range(len(features)):\n",
    "                likelihood[j] *= calculate_likelihood(training_data, features[i], x[i], Y, labels[j])\n",
    "        post_prob = [1]*len(labels)\n",
    "        \n",
    "        for j in range(len(labels)):\n",
    "            post_prob[j] = likelihood[j] * prior[j]\n",
    "               \n",
    "    \n",
    "        Ypred.append(np.argmax(post_prob))\n",
    "        probW.append(post_prob[1])\n",
    "        probL.append(post_prob[0])\n",
    "    \n",
    "    #Since there are 4 heroes per team, their probability are all multiplied\n",
    "    for i in range(floor(len(X)/4)):\n",
    "           accumulatedP[1].append(probW[i*4]*probW[(i*4)+1]*probW[(i*4)+2]*probW[(i*4)+3]) \n",
    "           accumulatedP[0].append(probL[i*4]*probL[(i*4)+1]*probL[(i*4)+2]*probL[(i*4)+3])\n",
    "           if(accumulatedP[1][i] >= accumulatedP[0][i]):\n",
    "               data[2].append(1)\n",
    "           else:\n",
    "               data[2].append(0)\n",
    "\n",
    "    data[0] = accumulatedP[0]\n",
    "    data[1] = accumulatedP[1]\n",
    "    \n",
    "    return data\n",
    "        "
   ]
  },
  {
   "cell_type": "markdown",
   "metadata": {},
   "source": [
    "## Testing For NB"
   ]
  },
  {
   "cell_type": "code",
   "execution_count": 335,
   "metadata": {},
   "outputs": [
    {
     "name": "stdout",
     "output_type": "stream",
     "text": [
      "    Prediction  Win Probability  Lose Probability  Actual Result\n",
      "0            1     1.708425e-07      1.041376e-07              1\n",
      "1            0     1.536965e-07      2.066637e-07              0\n",
      "2            1     2.543971e-07      1.581496e-07              1\n",
      "3            0     1.584789e-07      1.625990e-07              0\n",
      "4            1     3.580403e-08      3.006717e-08              1\n",
      "..         ...              ...               ...            ...\n",
      "67           0     9.672544e-08      1.323456e-07              1\n",
      "68           0     2.798670e-07      3.113598e-07              1\n",
      "69           0     7.494506e-08      8.859465e-08              0\n",
      "70           0     5.844772e-08      7.106552e-08              0\n",
      "71           0     7.036709e-08      7.118417e-08              1\n",
      "\n",
      "[72 rows x 4 columns]\n",
      "Accuracy:  0.6111111111111112\n",
      "[[25 11]\n",
      " [17 19]]\n",
      "F-score:  0.5757575757575758\n"
     ]
    }
   ],
   "source": [
    "\n",
    "from sklearn.model_selection import train_test_split\n",
    "train, test = train_test_split(stockData, test_size=.3, shuffle=False)\n",
    "X_test = test.iloc[:,2:-1].values\n",
    "Y_test = test.iloc[:,-1].values\n",
    "\n",
    "Ypred = naive_bayes_categorical(train, X=X_test, Y=\"Actual Result\")\n",
    "\n",
    "match_y =[]\n",
    "for i in range(floor(len(X_test)/4)):\n",
    "    match_y.append(Y_test[i*4])\n",
    "\n",
    "result = pd.DataFrame({\"Prediction\":Ypred[2],\"Win Probability\": Ypred[1], \"Lose Probability\": Ypred[0],\"Actual Result\":match_y})\n",
    "\n",
    "acc_init = np.sum(result[\"Prediction\"] == result[\"Actual Result\"]) / len(result[\"Actual Result\"])\n",
    "print(result)\n",
    "print(\"Accuracy: \", acc_init)\n",
    "\n",
    "from sklearn.metrics import confusion_matrix, f1_score\n",
    "print(confusion_matrix(result[\"Actual Result\"], result[\"Prediction\"]))\n",
    "print(\"F-score: \", f1_score(result[\"Actual Result\"], result[\"Prediction\"]))\n"
   ]
  },
  {
   "cell_type": "markdown",
   "metadata": {},
   "source": [
    "## Adaboost"
   ]
  },
  {
   "cell_type": "code",
   "execution_count": 254,
   "metadata": {},
   "outputs": [],
   "source": [
    "class DecisionStump:\n",
    "    def __init__(self):\n",
    "        self.polarity = 1\n",
    "        self.feature_idx = None\n",
    "        self.threshold = None\n",
    "        self.alpha = None\n",
    "\n",
    "    def predict(self, X):\n",
    "        n_samples = X.shape[0]\n",
    "        X_column = X[:, self.feature_idx]\n",
    "        predictions = np.ones(n_samples)\n",
    "        if self.polarity == 1:\n",
    "            predictions[X_column < self.threshold] = -1\n",
    "        else:\n",
    "            predictions[X_column > self.threshold] = -1\n",
    "\n",
    "        return predictions"
   ]
  },
  {
   "cell_type": "code",
   "execution_count": 326,
   "metadata": {},
   "outputs": [],
   "source": [
    "\n",
    "class Adaboost:\n",
    "    def __init__(self, n_clf=2):\n",
    "        self.n_clf = n_clf\n",
    "        self.clfs = []\n",
    "\n",
    "    def fit(self, X, y):\n",
    "        n_samples, n_features = X.shape\n",
    "\n",
    "        # Initialize weights to 1/N\n",
    "        w = np.full(n_samples, (1 / n_samples))\n",
    "\n",
    "        self.clfs = []\n",
    "\n",
    "        # Iterate through classifiers\n",
    "        for _ in range(self.n_clf):\n",
    "            clf = DecisionStump()\n",
    "            min_error = float(\"inf\")\n",
    "\n",
    "            # greedy search to find best threshold and feature\n",
    "            for feature_i in range(n_features):\n",
    "                X_column = X[:, feature_i]\n",
    "                thresholds = np.unique(X_column)\n",
    "\n",
    "                for threshold in thresholds:\n",
    "                    # predict with polarity 1\n",
    "                    p = 1\n",
    "                    predictions = np.ones(n_samples)\n",
    "                    predictions[X_column < threshold] = -1\n",
    "\n",
    "                    # Error = sum of weights of misclassified samples\n",
    "                    misclassified = w[y != predictions]\n",
    "                    error = sum(misclassified)\n",
    "\n",
    "                    if error > 0.5:\n",
    "                        error = 1 - error\n",
    "                        p = -1\n",
    "\n",
    "                    # store the best configuration\n",
    "                    if error < min_error:\n",
    "                        clf.polarity = p\n",
    "                        clf.threshold = threshold\n",
    "                        clf.feature_idx = feature_i\n",
    "                        min_error = error\n",
    "\n",
    "            # calculate alpha\n",
    "            EPS = 1e-10\n",
    "            clf.alpha = 0.5 * np.log((1.0 - min_error + EPS) / (min_error + EPS))\n",
    "\n",
    "            # calculate predictions and update weights\n",
    "            predictions = clf.predict(X)\n",
    "\n",
    "            w *= np.exp(-clf.alpha * y * predictions)\n",
    "            # Normalize to one\n",
    "            w /= np.sum(w)\n",
    "\n",
    "            # Save classifier\n",
    "            self.clfs.append(clf)\n",
    "\n",
    "    def predict(self, X):\n",
    "        clf_preds = [clf.alpha * clf.predict(X) for clf in self.clfs]\n",
    "        y_pred = np.sum(clf_preds, axis=0)\n",
    "        y_pred = np.sign(y_pred)\n",
    "\n",
    "        return y_pred\n"
   ]
  },
  {
   "cell_type": "markdown",
   "metadata": {},
   "source": [
    "## Data prep for AdaBoost Test"
   ]
  },
  {
   "cell_type": "code",
   "execution_count": 324,
   "metadata": {},
   "outputs": [
    {
     "name": "stdout",
     "output_type": "stream",
     "text": [
      "    Win Probability  Lose Probability  Actual Result\n",
      "0          0.526416          0.335062              1\n",
      "1          0.616159          0.493064              1\n",
      "2          0.270159          0.185128              1\n",
      "3          0.249819          0.310753              0\n",
      "4          0.394286          0.505280              0\n",
      "5          0.630952          0.547619              0\n",
      "6          0.447059          0.397436              1\n",
      "7          0.375718          0.237163              1\n",
      "8          0.661872          0.578191              1\n",
      "9          0.375349          0.555628              1\n",
      "10         0.327203          0.200157              1\n",
      "11         0.261817          0.359439              1\n",
      "12         0.534483          0.443548              1\n",
      "13         0.181538          0.287517              1\n",
      "14         0.387535          0.400937              1\n",
      "15         0.393997          0.293917              0\n",
      "16         0.291476          0.217891              1\n",
      "17         0.837712          0.737259              0\n",
      "18         0.755715          0.671927              1\n",
      "19         0.588104          0.558112              0\n",
      "20         0.181982          0.104527              1\n",
      "21         0.439067          0.294263              1\n",
      "22         0.644059          0.628517              0\n",
      "23         0.462031          0.323955              1\n",
      "24         0.237212          0.257402              0\n",
      "25         0.602651          0.478515              1\n",
      "26         0.578916          0.433099              1\n",
      "27         0.775653          0.518903              1\n",
      "28         0.255408          0.538967              1\n",
      "29         0.665627          0.716407              1\n",
      "30         0.481229          0.609586              0\n",
      "31         0.655494          0.599463              1\n",
      "32         0.408927          0.378124              0\n",
      "33         0.638501          0.440359              0\n",
      "34         0.788775          0.778488              1\n",
      "35         0.453734          0.499583              0\n"
     ]
    }
   ],
   "source": [
    "\n",
    "featuresNB = list(result.columns)[:-1]\n",
    "win_rate = []\n",
    "lose_rate = []\n",
    "match_result = []\n",
    "\n",
    "for i in range(floor(len(result)/2)):\n",
    "    win_rate.append(result[\"Win Probability\"][i*2]/(result[\"Win Probability\"][i*2] + result[\"Win Probability\"][(i*2)+1]))\n",
    "    lose_rate.append(result[\"Lose Probability\"][i*2]/(result[\"Lose Probability\"][i*2] + result[\"Lose Probability\"][(i*2)+1]))\n",
    "    match_result.append(result[\"Actual Result\"][i*2])\n",
    "\n",
    "\n",
    "preAda = pd.DataFrame({\"Win Probability\":win_rate,\"Lose Probability\": lose_rate, \"Actual Result\": match_result})\n",
    "\n",
    "\n",
    "\n",
    "print(preAda)\n",
    "\n",
    "    \n",
    "    "
   ]
  },
  {
   "cell_type": "markdown",
   "metadata": {},
   "source": [
    "## Training values for AdaBoost"
   ]
  },
  {
   "cell_type": "code",
   "execution_count": 329,
   "metadata": {},
   "outputs": [
    {
     "name": "stdout",
     "output_type": "stream",
     "text": [
      "    Win Probability  Lose Probability  Actual Result\n",
      "0          0.518771          0.390414              1\n",
      "1          0.314050          0.256198              1\n",
      "2          0.644059          0.628517              0\n",
      "3          0.729875          0.643965              1\n",
      "4          0.853345          0.787316              1\n",
      "..              ...               ...            ...\n",
      "79         0.560933          0.705737              0\n",
      "80         0.092524          0.193596              0\n",
      "81         0.285617          0.425373              0\n",
      "82         0.158284          0.278466              0\n",
      "83         0.523222          0.320766              1\n",
      "\n",
      "[84 rows x 3 columns]\n"
     ]
    }
   ],
   "source": [
    "X_train = train.iloc[:,2:-1].values\n",
    "Y_train = train.iloc[:,-1].values\n",
    "\n",
    "Ypred_train = naive_bayes_categorical(train, X=X_train, Y=\"Actual Result\")\n",
    "match_y_train =[]\n",
    "for i in range(floor(len(X_train)/4)):\n",
    "    match_y_train.append(Y_train[i*4])\n",
    "    \n",
    "train_result = pd.DataFrame({\"Prediction\":Ypred_train[2],\"Win Probability\": Ypred_train[1], \"Lose Probability\": Ypred_train[0],\"Actual Result\":match_y_train})\n",
    "\n",
    "win_rate_train = []\n",
    "lose_rate_train = []\n",
    "match_result_train = []\n",
    "for i in range(floor(len(train_result)/2)):\n",
    "    win_rate_train.append(train_result[\"Win Probability\"][i*2]/(train_result[\"Win Probability\"][i*2] + train_result[\"Win Probability\"][(i*2)+1]))\n",
    "    lose_rate_train.append(train_result[\"Lose Probability\"][i*2]/(train_result[\"Lose Probability\"][i*2] + train_result[\"Lose Probability\"][(i*2)+1]))\n",
    "    match_result_train.append(train_result[\"Actual Result\"][i*2])\n",
    "\n",
    "\n",
    "\n",
    "preAda_train = pd.DataFrame({\"Win Probability\":win_rate_train,\"Lose Probability\": lose_rate_train, \"Actual Result\": match_result_train})\n",
    "\n",
    "print(preAda_train)\n",
    "\n",
    "\n",
    "\n"
   ]
  },
  {
   "cell_type": "markdown",
   "metadata": {},
   "source": [
    "# Testing for ada"
   ]
  },
  {
   "cell_type": "code",
   "execution_count": 328,
   "metadata": {},
   "outputs": [
    {
     "name": "stdout",
     "output_type": "stream",
     "text": [
      "    Win Probability  Lose Probability  Prediction  Actual Result\n",
      "0          0.526416          0.335062         1.0              1\n",
      "1          0.616159          0.493064         1.0              1\n",
      "2          0.270159          0.185128         1.0              1\n",
      "3          0.249819          0.310753         1.0             -1\n",
      "4          0.394286          0.505280         1.0             -1\n",
      "5          0.630952          0.547619         1.0             -1\n",
      "6          0.447059          0.397436         1.0              1\n",
      "7          0.375718          0.237163         1.0              1\n",
      "8          0.661872          0.578191         1.0              1\n",
      "9          0.375349          0.555628        -1.0              1\n",
      "10         0.327203          0.200157         1.0              1\n",
      "11         0.261817          0.359439        -1.0              1\n",
      "12         0.534483          0.443548         1.0              1\n",
      "13         0.181538          0.287517        -1.0              1\n",
      "14         0.387535          0.400937         1.0              1\n",
      "15         0.393997          0.293917         1.0             -1\n",
      "16         0.291476          0.217891         1.0              1\n",
      "17         0.837712          0.737259         1.0             -1\n",
      "18         0.755715          0.671927         1.0              1\n",
      "19         0.588104          0.558112         1.0             -1\n",
      "20         0.181982          0.104527        -1.0              1\n",
      "21         0.439067          0.294263         1.0              1\n",
      "22         0.644059          0.628517         1.0             -1\n",
      "23         0.462031          0.323955         1.0              1\n",
      "24         0.237212          0.257402         1.0             -1\n",
      "25         0.602651          0.478515         1.0              1\n",
      "26         0.578916          0.433099         1.0              1\n",
      "27         0.775653          0.518903         1.0              1\n",
      "28         0.255408          0.538967        -1.0              1\n",
      "29         0.665627          0.716407         1.0              1\n",
      "30         0.481229          0.609586        -1.0             -1\n",
      "31         0.655494          0.599463         1.0              1\n",
      "32         0.408927          0.378124         1.0             -1\n",
      "33         0.638501          0.440359         1.0             -1\n",
      "34         0.788775          0.778488         1.0              1\n",
      "35         0.453734          0.499583         1.0             -1\n",
      "Accuracy: 0.5555555555555556\n"
     ]
    }
   ],
   "source": [
    "\n",
    "def accuracy(y_true, y_pred):\n",
    "    accuracy = np.sum(y_true == y_pred) / len(y_true)\n",
    "    return accuracy\n",
    "\n",
    "\n",
    "ada_train, ada_test = preAda_train, preAda\n",
    "\n",
    "adaX_train = ada_train.iloc[:,:-1].values\n",
    "aday_train = ada_train.iloc[:,2].values\n",
    "\n",
    "aday_train[aday_train == 0] = -1\n",
    "\n",
    "adaX_test = ada_test.iloc[:,:-1].values\n",
    "aday_test = ada_test.iloc[:,2].values\n",
    "aday_test[aday_test == 0] = -1\n",
    "\n",
    "clf = Adaboost(n_clf=5)\n",
    "clf.fit(adaX_train, aday_train)\n",
    "y_pred = clf.predict(adaX_test)\n",
    "\n",
    "acc = accuracy(aday_test, y_pred)\n",
    "final_result = pd.DataFrame({\"Win Probability\":adaX_test[:,0],\"Lose Probability\": adaX_test[:,1],\"Prediction\": y_pred, \"Actual Result\": aday_test})\n",
    "print(final_result)\n",
    "print(\"Accuracy:\", acc)\n"
   ]
  }
 ],
 "metadata": {
  "interpreter": {
   "hash": "405ef7d1e9e1734bac154fb68f09c8e6b1313a2ff423ae8052b2bdaf32a1ee30"
  },
  "kernelspec": {
   "display_name": "Python 3.8.10 64-bit (windows store)",
   "language": "python",
   "name": "python3"
  },
  "language_info": {
   "codemirror_mode": {
    "name": "ipython",
    "version": 3
   },
   "file_extension": ".py",
   "mimetype": "text/x-python",
   "name": "python",
   "nbconvert_exporter": "python",
   "pygments_lexer": "ipython3",
   "version": "3.8.10"
  },
  "orig_nbformat": 4
 },
 "nbformat": 4,
 "nbformat_minor": 2
}
